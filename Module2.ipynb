{
  "nbformat": 4,
  "nbformat_minor": 0,
  "metadata": {
    "colab": {
      "name": "Module2. Homework.ipynb",
      "provenance": [],
      "include_colab_link": true
    },
    "kernelspec": {
      "name": "python3",
      "display_name": "Python 3"
    }
  },
  "cells": [
    {
      "cell_type": "markdown",
      "metadata": {
        "id": "view-in-github",
        "colab_type": "text"
      },
      "source": [
        "<a href=\"https://colab.research.google.com/github/jupsimar/Python-pandas/blob/main/Module2.ipynb\" target=\"_parent\"><img src=\"https://colab.research.google.com/assets/colab-badge.svg\" alt=\"Open In Colab\"/></a>"
      ]
    },
    {
      "cell_type": "markdown",
      "metadata": {
        "id": "All3IBJztMnU"
      },
      "source": [
        "# Working with DataFrames"
      ]
    },
    {
      "cell_type": "code",
      "metadata": {
        "id": "AHyuZz-p36yC"
      },
      "source": [
        "# importing the libraries (pandas, numpy)\n",
        "import numpy as np\n",
        "import pandas as pd"
      ],
      "execution_count": null,
      "outputs": []
    },
    {
      "cell_type": "code",
      "metadata": {
        "id": "HnX9bnURtXI4"
      },
      "source": [
        "# creating a DataFrame with the help of randn\n",
        "from numpy.random import randn"
      ],
      "execution_count": null,
      "outputs": []
    },
    {
      "cell_type": "code",
      "metadata": {
        "id": "XYfFN9oCtfoo"
      },
      "source": [
        "# getting the same random numbers; setting a seed\n",
        "\n",
        "np.random.seed(101)"
      ],
      "execution_count": null,
      "outputs": []
    },
    {
      "cell_type": "code",
      "metadata": {
        "id": "jwQiKnrstpNz"
      },
      "source": [
        "# create a DataFrame"
      ],
      "execution_count": null,
      "outputs": []
    },
    {
      "cell_type": "markdown",
      "metadata": {
        "id": "V-npGGmwuAsS"
      },
      "source": [
        "the DataFrame should look like the one presented above:"
      ]
    },
    {
      "cell_type": "markdown",
      "metadata": {
        "id": "B6U2AKiRt71k"
      },
      "source": [
        "![randn answer.png](data:image/png;base64,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)"
      ]
    },
    {
      "cell_type": "markdown",
      "metadata": {
        "id": "CYUElFuguMo-"
      },
      "source": [
        "# Uploading a csv file and converting it to a DataFrame (ted file)"
      ]
    },
    {
      "cell_type": "code",
      "metadata": {
        "id": "GGqbkMtCt-0Q"
      },
      "source": [
        "from google.colab import files\n",
        "uploaded = files.upload()"
      ],
      "execution_count": null,
      "outputs": []
    },
    {
      "cell_type": "code",
      "metadata": {
        "id": "_uSHVoiGuWLX"
      },
      "source": [
        "# importing it to a dataframe\n",
        "ted = pd.read_csv('')"
      ],
      "execution_count": null,
      "outputs": []
    },
    {
      "cell_type": "code",
      "metadata": {
        "id": "G99zLkMeudOp"
      },
      "source": [
        "1st question\n",
        "\n",
        "# display the tail of the following columns: name, num_speaker, ratings, related_talks, title\n"
      ],
      "execution_count": null,
      "outputs": []
    },
    {
      "cell_type": "code",
      "metadata": {
        "id": "4bvT4Esguukl"
      },
      "source": [
        "#2nd question\n",
        "\n",
        "# slice a dataframe in the following manner - I want the first 7 rows and the following columns: ratings, tags, title"
      ],
      "execution_count": null,
      "outputs": []
    },
    {
      "cell_type": "code",
      "metadata": {
        "id": "J6AmWWKUvHld"
      },
      "source": [
        "# 3rd question - use pd.to_datetime and transform published date, create a new column called 'new_published_date'"
      ],
      "execution_count": null,
      "outputs": []
    },
    {
      "cell_type": "code",
      "metadata": {
        "id": "9p6PoXOvvnHB"
      },
      "source": [
        "#4th question = create a new column that contains year from new published date column; name it ['year']"
      ],
      "execution_count": null,
      "outputs": []
    },
    {
      "cell_type": "code",
      "metadata": {
        "id": "zyszi6hwvdke"
      },
      "source": [
        "# 5th question  - create a new DataFrame (google it).Name it new_ted; You will have to filter the year column in the old dataframe ted[ted.year>1980] and the filtered output would be the new dataframe"
      ],
      "execution_count": null,
      "outputs": []
    },
    {
      "cell_type": "markdown",
      "metadata": {
        "id": "7bgA8jG7KxfH"
      },
      "source": [
        "Bonus Question\n",
        "- it is not obligatory, yet you will get some additional marks"
      ]
    },
    {
      "cell_type": "code",
      "metadata": {
        "id": "7dvgSIh_KzrZ"
      },
      "source": [
        "# find another way to see live expectancy average by region (I used nested for loops) - use another technique - the internet is limitless"
      ],
      "execution_count": null,
      "outputs": []
    },
    {
      "cell_type": "markdown",
      "metadata": {
        "id": "1q1GU-YzwY8c"
      },
      "source": [
        "# That's it! see you Thursday!"
      ]
    }
  ]
}